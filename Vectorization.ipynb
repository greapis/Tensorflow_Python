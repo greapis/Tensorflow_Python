{
  "nbformat": 4,
  "nbformat_minor": 0,
  "metadata": {
    "colab": {
      "provenance": [],
      "gpuType": "T4",
      "authorship_tag": "ABX9TyNiNySunIz3nI0sOrntsd90",
      "include_colab_link": true
    },
    "kernelspec": {
      "name": "python3",
      "display_name": "Python 3"
    },
    "language_info": {
      "name": "python"
    },
    "accelerator": "GPU"
  },
  "cells": [
    {
      "cell_type": "markdown",
      "metadata": {
        "id": "view-in-github",
        "colab_type": "text"
      },
      "source": [
        "<a href=\"https://colab.research.google.com/github/greapis/Tensorflow_Python/blob/main/Vectorization.ipynb\" target=\"_parent\"><img src=\"https://colab.research.google.com/assets/colab-badge.svg\" alt=\"Open In Colab\"/></a>"
      ]
    },
    {
      "cell_type": "markdown",
      "source": [
        "Vectorization\n",
        "\n",
        " - vector화된 계산과 vector화되지 않은 데이터 for 반복 실행 비교"
      ],
      "metadata": {
        "id": "GocMSPNcRx73"
      }
    },
    {
      "cell_type": "code",
      "source": [
        "import numpy as np\n",
        "import time\n",
        "  #  코드 실행 시간 측정하는 라이브러리\n",
        "\n",
        "# 백만 차원의 랜덤 배열 생성\n",
        "a = np.random.rand(100000000)\n",
        "b = np.random.rand(100000000)\n",
        "  # 0~1 사이 백만 개 무작위 수 생성\n",
        "\n",
        "\n",
        "# 벡터화된 버전\n",
        "tic = time.time()\n",
        "c = np.dot(a, b)\n",
        "  # 내적(dot product) 계산\n",
        "\n",
        "toc = time.time()\n",
        "print(\"벡터화된 버전: \" + str(1000 * (toc - tic)) + \"ms\")\n",
        "\n",
        "  #   np.dot():\n",
        "    # → CPU/GPU의 SIMD(단일 명령어 다중 데이터) 활용\n",
        "    # → 병렬 처리로 초고속 연산 (약 0.9ms)\n",
        "\n",
        "# 벡터화되지 않은 버전\n",
        "c = 0\n",
        "tic = time.time()\n",
        "for i in range(1000000):\n",
        "    c += a[i] * b[i]\n",
        "toc = time.time()\n",
        "print(\"for 루프 버전: \" + str(1000 * (toc - tic)) + \"ms\")\n"
      ],
      "metadata": {
        "id": "-gDyWDt1RmAN",
        "outputId": "4d348f93-09ef-40d8-d544-11e3ed836ad4",
        "colab": {
          "base_uri": "https://localhost:8080/"
        }
      },
      "execution_count": 1,
      "outputs": [
        {
          "output_type": "stream",
          "name": "stdout",
          "text": [
            "벡터화된 버전: 128.3578872680664ms\n",
            "for 루프 버전: 460.7830047607422ms\n"
          ]
        }
      ]
    },
    {
      "cell_type": "code",
      "source": [
        "a"
      ],
      "metadata": {
        "id": "zF9uUl1_TXXg",
        "outputId": "b8a50dd2-8d93-4c5c-83e8-a83e1955bbfe",
        "colab": {
          "base_uri": "https://localhost:8080/"
        }
      },
      "execution_count": 2,
      "outputs": [
        {
          "output_type": "execute_result",
          "data": {
            "text/plain": [
              "array([0.79810042, 0.4971833 , 0.97285091, ..., 0.32172239, 0.67538966,\n",
              "       0.52195175])"
            ]
          },
          "metadata": {},
          "execution_count": 2
        }
      ]
    },
    {
      "cell_type": "code",
      "source": [
        "b"
      ],
      "metadata": {
        "id": "p9L1b3T1Trb5",
        "outputId": "1c967564-1e18-484f-d8d5-110d0d565a0c",
        "colab": {
          "base_uri": "https://localhost:8080/"
        }
      },
      "execution_count": 3,
      "outputs": [
        {
          "output_type": "execute_result",
          "data": {
            "text/plain": [
              "array([0.98383166, 0.85370628, 0.46706159, ..., 0.51818083, 0.00997134,\n",
              "       0.9528388 ])"
            ]
          },
          "metadata": {},
          "execution_count": 3
        }
      ]
    },
    {
      "cell_type": "code",
      "source": [
        "c"
      ],
      "metadata": {
        "id": "LfArp4AETsFT",
        "outputId": "670a9fe0-0390-423b-b5d3-19c6eac89800",
        "colab": {
          "base_uri": "https://localhost:8080/"
        }
      },
      "execution_count": 5,
      "outputs": [
        {
          "output_type": "execute_result",
          "data": {
            "text/plain": [
              "np.float64(249875.24246273658)"
            ]
          },
          "metadata": {},
          "execution_count": 5
        }
      ]
    },
    {
      "cell_type": "code",
      "source": [],
      "metadata": {
        "id": "BsuwOyLPTso1"
      },
      "execution_count": null,
      "outputs": []
    }
  ]
}