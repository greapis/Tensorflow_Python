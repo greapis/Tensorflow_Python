{
  "nbformat": 4,
  "nbformat_minor": 0,
  "metadata": {
    "colab": {
      "provenance": [],
      "gpuType": "T4",
      "authorship_tag": "ABX9TyNbVAWlT4K2gZVInpuH/bXv",
      "include_colab_link": true
    },
    "kernelspec": {
      "name": "python3",
      "display_name": "Python 3"
    },
    "language_info": {
      "name": "python"
    },
    "accelerator": "GPU"
  },
  "cells": [
    {
      "cell_type": "markdown",
      "metadata": {
        "id": "view-in-github",
        "colab_type": "text"
      },
      "source": [
        "<a href=\"https://colab.research.google.com/github/greapis/Tensorflow_Python/blob/main/Vectorization.ipynb\" target=\"_parent\"><img src=\"https://colab.research.google.com/assets/colab-badge.svg\" alt=\"Open In Colab\"/></a>"
      ]
    },
    {
      "cell_type": "markdown",
      "source": [
        "Vectorization\n",
        "\n",
        " - vector화된 계산과 vector화되지 않은 데이터 for 반복 실행 비교"
      ],
      "metadata": {
        "id": "GocMSPNcRx73"
      }
    },
    {
      "cell_type": "code",
      "source": [
        "import numpy as np\n",
        "import time\n",
        "\n",
        "# 백만 차원의 랜덤 배열 생성\n",
        "a = np.random.rand(1000000)\n",
        "b = np.random.rand(1000000)\n",
        "\n",
        "# 벡터화된 버전\n",
        "tic = time.time()\n",
        "c = np.dot(a, b)\n",
        "toc = time.time()\n",
        "print(\"벡터화된 버전: \" + str(1000 * (toc - tic)) + \"ms\")\n",
        "\n",
        "# 벡터화되지 않은 버전\n",
        "c = 0\n",
        "tic = time.time()\n",
        "for i in range(1000000):\n",
        "    c += a[i] * b[i]\n",
        "toc = time.time()\n",
        "print(\"for 루프 버전: \" + str(1000 * (toc - tic)) + \"ms\")\n"
      ],
      "metadata": {
        "id": "-gDyWDt1RmAN"
      },
      "execution_count": null,
      "outputs": []
    },
    {
      "cell_type": "code",
      "source": [],
      "metadata": {
        "id": "FWuadZ16TPs8"
      },
      "execution_count": null,
      "outputs": []
    }
  ]
}