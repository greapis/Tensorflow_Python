{
  "nbformat": 4,
  "nbformat_minor": 0,
  "metadata": {
    "colab": {
      "provenance": [],
      "authorship_tag": "ABX9TyMRMI7p+H4i81QbO9eZQqXz",
      "include_colab_link": true
    },
    "kernelspec": {
      "name": "python3",
      "display_name": "Python 3"
    },
    "language_info": {
      "name": "python"
    }
  },
  "cells": [
    {
      "cell_type": "markdown",
      "metadata": {
        "id": "view-in-github",
        "colab_type": "text"
      },
      "source": [
        "<a href=\"https://colab.research.google.com/github/greapis/Tensorflow_Python/blob/main/Tensorflow_AI_LS_LSTM.ipynb\" target=\"_parent\"><img src=\"https://colab.research.google.com/assets/colab-badge.svg\" alt=\"Open In Colab\"/></a>"
      ]
    },
    {
      "cell_type": "markdown",
      "source": [
        "Step 1. Library\n",
        "\n",
        " - Keras에서 일부 전처리된 형태의 IMDB Data 제공\n",
        " - Keras - sklearn이 서로 호환되지 않기 때문에 \"KerasClassifier\" 필요 : 이 부분은 Tensorflow가 업데이트되면서 변동되어서 확인 필요"
      ],
      "metadata": {
        "id": "m_IMUTJhxKX4"
      }
    },
    {
      "cell_type": "code",
      "source": [
        "# Importing Keras abd Sklearn libraries\n",
        "    # Importing KerasClassifier Library : Keras vs Sklearn 호환성 이슈 해결\n",
        "\n",
        "# IMDB Datasets 불러오기 from Keras\n",
        "from tensorflow.keras.datasets import imdb\n",
        "\n",
        "# 리뷰 길이 맞추기\n",
        "from tensorflow.keras.preprocessing.sequence import pad_sequences\n",
        "\n",
        "# Making Model\n",
        "from tensorflow.keras.models import Sequential\n",
        "from tensorflow.keras.layers import Embedding, Dense, LSTM\n",
        "\n",
        "# Keras model - (래핑) - sklearn이 이해할 수 있는 형태로 변환\n",
        "from scikeras.wrappers import KerasClassifier\n",
        "# from tensorflow.keras.wrappers.scikit_learn import KerasClassifier  : 최신 TensorFlow(특히 2.12 이상)에서는 tensorflow.keras.wrappers.scikit_learn 모듈이 더 이상 제공되지 않습니다.\n",
        "\n",
        "# Importing GreidSearch\n",
        "from sklearn.model_selection import GridSearchCV\n",
        "\n",
        "# Caculating Accuracy\n",
        "from sklearn.metrics import accuracy_score"
      ],
      "metadata": {
        "id": "jTCtkkvWxJE-",
        "outputId": "bf119d55-b362-4f50-cac8-8e47a18cf373",
        "colab": {
          "base_uri": "https://localhost:8080/",
          "height": 402
        }
      },
      "execution_count": 10,
      "outputs": [
        {
          "output_type": "error",
          "ename": "ModuleNotFoundError",
          "evalue": "No module named 'scikeras'",
          "traceback": [
            "\u001b[0;31m---------------------------------------------------------------------------\u001b[0m",
            "\u001b[0;31mModuleNotFoundError\u001b[0m                       Traceback (most recent call last)",
            "\u001b[0;32m<ipython-input-10-010d4b51622a>\u001b[0m in \u001b[0;36m<cell line: 0>\u001b[0;34m()\u001b[0m\n\u001b[1;32m     13\u001b[0m \u001b[0;34m\u001b[0m\u001b[0m\n\u001b[1;32m     14\u001b[0m \u001b[0;31m# Keras model - (래핑) - sklearn이 이해할 수 있는 형태로 변환\u001b[0m\u001b[0;34m\u001b[0m\u001b[0;34m\u001b[0m\u001b[0m\n\u001b[0;32m---> 15\u001b[0;31m \u001b[0;32mfrom\u001b[0m \u001b[0mscikeras\u001b[0m\u001b[0;34m.\u001b[0m\u001b[0mwrappers\u001b[0m \u001b[0;32mimport\u001b[0m \u001b[0mKerasClassifier\u001b[0m\u001b[0;34m\u001b[0m\u001b[0;34m\u001b[0m\u001b[0m\n\u001b[0m\u001b[1;32m     16\u001b[0m \u001b[0;31m# from tensorflow.keras.wrappers.scikit_learn import KerasClassifier  : 최신 TensorFlow(특히 2.12 이상)에서는 tensorflow.keras.wrappers.scikit_learn 모듈이 더 이상 제공되지 않습니다.\u001b[0m\u001b[0;34m\u001b[0m\u001b[0;34m\u001b[0m\u001b[0m\n\u001b[1;32m     17\u001b[0m \u001b[0;34m\u001b[0m\u001b[0m\n",
            "\u001b[0;31mModuleNotFoundError\u001b[0m: No module named 'scikeras'",
            "",
            "\u001b[0;31m---------------------------------------------------------------------------\u001b[0;32m\nNOTE: If your import is failing due to a missing package, you can\nmanually install dependencies using either !pip or !apt.\n\nTo view examples of installing some common dependencies, click the\n\"Open Examples\" button below.\n\u001b[0;31m---------------------------------------------------------------------------\u001b[0m\n"
          ],
          "errorDetails": {
            "actions": [
              {
                "action": "open_url",
                "actionText": "Open Examples",
                "url": "/notebooks/snippets/importing_libraries.ipynb"
              }
            ]
          }
        }
      ]
    },
    {
      "cell_type": "markdown",
      "source": [
        "# from tensorflow.keras.wrappers.scikit_learn import KerasClassifier :\n",
        "\n",
        "\n",
        "*  최신 TensorFlow(특히 2.12 이상)에서는 tensorflow.keras.wrappers.scikit_learn 모듈이 더 이상 제공되지 않습니다.\n",
        "*  과거에는 Keras가 scikit-learn과의 호환성을 위해 이 모듈을 제공했지만, 이제는 공식적으로 지원을 중단했으며, 이 기능은 별도의 패키지로 분리되었습니다\n",
        "\n",
        "\n",
        "\n",
        "*   scikeras 사용 : 대안으로 scikeras라는 패키지를 사용할 수 있습니다.\n",
        "다음처럼 임포트하면 됩니다:\n",
        "*   from scikeras.wrappers import KerasClassifier 또는 from scikeras.wrappers import KerasRegressor\n",
        "\n",
        "\n",
        "\n",
        "\n"
      ],
      "metadata": {
        "id": "CXiquR5Boqw6"
      }
    },
    {
      "cell_type": "code",
      "source": [],
      "metadata": {
        "id": "7eXllPIQloNT"
      },
      "execution_count": null,
      "outputs": []
    }
  ]
}