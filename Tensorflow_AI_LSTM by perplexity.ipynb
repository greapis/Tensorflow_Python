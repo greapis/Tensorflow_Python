{
  "nbformat": 4,
  "nbformat_minor": 0,
  "metadata": {
    "colab": {
      "provenance": [],
      "gpuType": "T4",
      "authorship_tag": "ABX9TyNBr+Af3mcVU9ecq/klrqGz",
      "include_colab_link": true
    },
    "kernelspec": {
      "name": "python3",
      "display_name": "Python 3"
    },
    "language_info": {
      "name": "python"
    },
    "accelerator": "GPU"
  },
  "cells": [
    {
      "cell_type": "markdown",
      "metadata": {
        "id": "view-in-github",
        "colab_type": "text"
      },
      "source": [
        "<a href=\"https://colab.research.google.com/github/greapis/Tensorflow_Python/blob/main/Tensorflow_AI_LSTM%20by%20perplexity.ipynb\" target=\"_parent\"><img src=\"https://colab.research.google.com/assets/colab-badge.svg\" alt=\"Open In Colab\"/></a>"
      ]
    },
    {
      "cell_type": "markdown",
      "source": [
        "IMDB 데이터셋: 영화 리뷰 텍스트가 긍정(1)/부정(0)으로 라벨링된 데이터셋입니다.\n",
        "\n",
        "pad_sequences: LSTM 입력을 위해 모든 시퀀스의 길이를 동일하게 맞춥니다.\n",
        "\n",
        "Embedding 레이어: 단어 인덱스를 밀집 벡터로 변환해 의미 정보를 학습합니다.\n",
        "\n",
        "LSTM 레이어: 시퀀스(문장) 내 단어의 순"
      ],
      "metadata": {
        "id": "tgNKkD1L5BEF"
      }
    },
    {
      "cell_type": "markdown",
      "source": [],
      "metadata": {
        "id": "GrObtmuP5It6"
      }
    },
    {
      "cell_type": "code",
      "source": [
        "import tensorflow as tf\n",
        "from tensorflow import keras\n",
        "from tensorflow.keras import layers\n",
        "\n",
        "# 1. IMDB 데이터셋 불러오기\n",
        "# num_words=10000: 빈도 상위 10,000개의 단어만 사용\n",
        "(x_train, y_train), (x_test, y_test) = keras.datasets.imdb.load_data(num_words=10000)\n",
        "\n",
        "# 2. 시퀀스 데이터의 길이를 맞추기 위해 패딩 적용 (최대 길이 200)\n",
        "maxlen = 200\n",
        "x_train = keras.preprocessing.sequence.pad_sequences(x_train, maxlen=maxlen)\n",
        "x_test = keras.preprocessing.sequence.pad_sequences(x_test, maxlen=maxlen)\n",
        "\n",
        "# 3. 모델 구성\n",
        "model = keras.Sequential([\n",
        "    # 임베딩 레이어: 단어 인덱스를 128차원 벡터로 변환\n",
        "    layers.Embedding(input_dim=10000, output_dim=128, input_length=maxlen),\n",
        "    # LSTM 레이어: 시퀀스 데이터를 처리하는 순환 신경망(RNN) 계열\n",
        "    layers.LSTM(64),\n",
        "    # 출력층: 이진 분류(긍정/부정) → 시그모이드 활성화 함수 사용\n",
        "    layers.Dense(1, activation='sigmoid')\n",
        "])\n",
        "\n",
        "# 4. 모델 컴파일\n",
        "# 이진 분류이므로 loss는 binary_crossentropy, optimizer는 adam, 평가지표는 accuracy 사용\n",
        "model.compile(loss='binary_crossentropy',\n",
        "              optimizer='adam',\n",
        "              metrics=['accuracy'])\n",
        "\n",
        "# 5. 모델 학습\n",
        "# validation_split=0.2: 훈련 데이터의 20%를 검증 데이터로 사용\n",
        "history = model.fit(x_train, y_train,\n",
        "                    epochs=5,\n",
        "                    batch_size=64,\n",
        "                    validation_split=0.2)\n",
        "\n",
        "# 6. 테스트 데이터로 평가\n",
        "test_loss, test_acc = model.evaluate(x_test, y_test)\n",
        "print('테스트 정확도:', test_acc)\n"
      ],
      "metadata": {
        "colab": {
          "base_uri": "https://localhost:8080/"
        },
        "id": "k8ui8IZj5BWV",
        "outputId": "a8a989b5-9c26-4e6a-ec12-fdc2eede60ac"
      },
      "execution_count": null,
      "outputs": [
        {
          "output_type": "stream",
          "name": "stdout",
          "text": [
            "Downloading data from https://storage.googleapis.com/tensorflow/tf-keras-datasets/imdb.npz\n",
            "\u001b[1m17464789/17464789\u001b[0m \u001b[32m━━━━━━━━━━━━━━━━━━━━\u001b[0m\u001b[37m\u001b[0m \u001b[1m0s\u001b[0m 0us/step\n"
          ]
        }
      ]
    },
    {
      "cell_type": "code",
      "source": [],
      "metadata": {
        "id": "CQZXKzwd5OCR"
      },
      "execution_count": null,
      "outputs": []
    }
  ]
}